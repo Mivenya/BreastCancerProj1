{
 "cells": [
  {
   "cell_type": "markdown",
   "id": "ff4e038c-fdfa-4505-ae3d-35f1f8071343",
   "metadata": {},
   "source": [
    "# Mandy's Breast Cancer Campaign Project Part 2 - Training and testing\n"
   ]
  },
  {
   "cell_type": "markdown",
   "id": "ce506746-c543-4bcd-8ca1-9d0a19e211f6",
   "metadata": {},
   "source": [
    "## Important note  - the model comments and decisions were made previous to correcting an error in the train/test/split, the error itself is now fixed but I did not redo my modelling notes/choices "
   ]
  },
  {
   "cell_type": "code",
   "execution_count": 1,
   "id": "1000487d-3787-4195-9b35-a0723f5a9dea",
   "metadata": {},
   "outputs": [],
   "source": [
    "# First our imports"
   ]
  },
  {
   "cell_type": "code",
   "execution_count": 2,
   "id": "557e7a1e-b6b0-4675-90f7-238b6b9a1179",
   "metadata": {},
   "outputs": [],
   "source": [
    "import pandas as pd\n",
    "import numpy as np\n",
    "from sklearn.model_selection import train_test_split\n",
    "import matplotlib.pyplot as plt\n",
    "import seaborn as sns\n",
    "from sklearn.neighbors import KNeighborsClassifier\n",
    "from sklearn.ensemble import RandomForestClassifier\n",
    "from sklearn.svm import SVC\n",
    "from sklearn.metrics import classification_report, confusion_matrix"
   ]
  },
  {
   "cell_type": "code",
   "execution_count": 3,
   "id": "deb22dcf-37b9-433f-a454-715eb3c23284",
   "metadata": {},
   "outputs": [],
   "source": [
    "# Then our dataset - if we recall i hadn't yet fixed the extra column with the row numbers so make sure to drop that first\n",
    "# Also for the steps i'll need a copy of it without the features narrowed down further."
   ]
  },
  {
   "cell_type": "code",
   "execution_count": 4,
   "id": "09ba1e38-9652-4353-aa42-b1c4f08e71ba",
   "metadata": {},
   "outputs": [
    {
     "data": {
      "text/html": [
       "<div>\n",
       "<style scoped>\n",
       "    .dataframe tbody tr th:only-of-type {\n",
       "        vertical-align: middle;\n",
       "    }\n",
       "\n",
       "    .dataframe tbody tr th {\n",
       "        vertical-align: top;\n",
       "    }\n",
       "\n",
       "    .dataframe thead th {\n",
       "        text-align: right;\n",
       "    }\n",
       "</style>\n",
       "<table border=\"1\" class=\"dataframe\">\n",
       "  <thead>\n",
       "    <tr style=\"text-align: right;\">\n",
       "      <th></th>\n",
       "      <th>diagnosis</th>\n",
       "      <th>radius_mean</th>\n",
       "      <th>texture_mean</th>\n",
       "      <th>smoothness_mean</th>\n",
       "      <th>compactness_mean</th>\n",
       "      <th>concavity_mean</th>\n",
       "      <th>symmetry_mean</th>\n",
       "      <th>fractal_dimension_mean</th>\n",
       "      <th>radius_se</th>\n",
       "      <th>texture_se</th>\n",
       "      <th>...</th>\n",
       "      <th>compactness_se</th>\n",
       "      <th>concavity_se</th>\n",
       "      <th>concave points_se</th>\n",
       "      <th>symmetry_se</th>\n",
       "      <th>fractal_dimension_se</th>\n",
       "      <th>smoothness_worst</th>\n",
       "      <th>compactness_worst</th>\n",
       "      <th>concavity_worst</th>\n",
       "      <th>symmetry_worst</th>\n",
       "      <th>fractal_dimension_worst</th>\n",
       "    </tr>\n",
       "  </thead>\n",
       "  <tbody>\n",
       "    <tr>\n",
       "      <th>0</th>\n",
       "      <td>1</td>\n",
       "      <td>1.097064</td>\n",
       "      <td>-2.073335</td>\n",
       "      <td>1.568466</td>\n",
       "      <td>3.283515</td>\n",
       "      <td>2.652874</td>\n",
       "      <td>2.217515</td>\n",
       "      <td>2.255747</td>\n",
       "      <td>2.489734</td>\n",
       "      <td>-0.565265</td>\n",
       "      <td>...</td>\n",
       "      <td>1.316862</td>\n",
       "      <td>0.724026</td>\n",
       "      <td>0.660820</td>\n",
       "      <td>1.148757</td>\n",
       "      <td>0.907083</td>\n",
       "      <td>1.307686</td>\n",
       "      <td>2.616665</td>\n",
       "      <td>2.109526</td>\n",
       "      <td>2.750622</td>\n",
       "      <td>1.937015</td>\n",
       "    </tr>\n",
       "    <tr>\n",
       "      <th>1</th>\n",
       "      <td>1</td>\n",
       "      <td>1.829821</td>\n",
       "      <td>-0.353632</td>\n",
       "      <td>-0.826962</td>\n",
       "      <td>-0.487072</td>\n",
       "      <td>-0.023846</td>\n",
       "      <td>0.001392</td>\n",
       "      <td>-0.868652</td>\n",
       "      <td>0.499255</td>\n",
       "      <td>-0.876244</td>\n",
       "      <td>...</td>\n",
       "      <td>-0.692926</td>\n",
       "      <td>-0.440780</td>\n",
       "      <td>0.260162</td>\n",
       "      <td>-0.805450</td>\n",
       "      <td>-0.099444</td>\n",
       "      <td>-0.375612</td>\n",
       "      <td>-0.430444</td>\n",
       "      <td>-0.146749</td>\n",
       "      <td>-0.243890</td>\n",
       "      <td>0.281190</td>\n",
       "    </tr>\n",
       "    <tr>\n",
       "      <th>2</th>\n",
       "      <td>1</td>\n",
       "      <td>1.579888</td>\n",
       "      <td>0.456187</td>\n",
       "      <td>0.942210</td>\n",
       "      <td>1.052926</td>\n",
       "      <td>1.363478</td>\n",
       "      <td>0.939685</td>\n",
       "      <td>-0.398008</td>\n",
       "      <td>1.228676</td>\n",
       "      <td>-0.780083</td>\n",
       "      <td>...</td>\n",
       "      <td>0.814974</td>\n",
       "      <td>0.213076</td>\n",
       "      <td>1.424827</td>\n",
       "      <td>0.237036</td>\n",
       "      <td>0.293559</td>\n",
       "      <td>0.527407</td>\n",
       "      <td>1.082932</td>\n",
       "      <td>0.854974</td>\n",
       "      <td>1.152255</td>\n",
       "      <td>0.201391</td>\n",
       "    </tr>\n",
       "  </tbody>\n",
       "</table>\n",
       "<p>3 rows × 21 columns</p>\n",
       "</div>"
      ],
      "text/plain": [
       "   diagnosis  radius_mean  texture_mean  smoothness_mean  compactness_mean  \\\n",
       "0          1     1.097064     -2.073335         1.568466          3.283515   \n",
       "1          1     1.829821     -0.353632        -0.826962         -0.487072   \n",
       "2          1     1.579888      0.456187         0.942210          1.052926   \n",
       "\n",
       "   concavity_mean  symmetry_mean  fractal_dimension_mean  radius_se  \\\n",
       "0        2.652874       2.217515                2.255747   2.489734   \n",
       "1       -0.023846       0.001392               -0.868652   0.499255   \n",
       "2        1.363478       0.939685               -0.398008   1.228676   \n",
       "\n",
       "   texture_se  ...  compactness_se  concavity_se  concave points_se  \\\n",
       "0   -0.565265  ...        1.316862      0.724026           0.660820   \n",
       "1   -0.876244  ...       -0.692926     -0.440780           0.260162   \n",
       "2   -0.780083  ...        0.814974      0.213076           1.424827   \n",
       "\n",
       "   symmetry_se  fractal_dimension_se  smoothness_worst  compactness_worst  \\\n",
       "0     1.148757              0.907083          1.307686           2.616665   \n",
       "1    -0.805450             -0.099444         -0.375612          -0.430444   \n",
       "2     0.237036              0.293559          0.527407           1.082932   \n",
       "\n",
       "   concavity_worst  symmetry_worst  fractal_dimension_worst  \n",
       "0         2.109526        2.750622                 1.937015  \n",
       "1        -0.146749       -0.243890                 0.281190  \n",
       "2         0.854974        1.152255                 0.201391  \n",
       "\n",
       "[3 rows x 21 columns]"
      ]
     },
     "execution_count": 4,
     "metadata": {},
     "output_type": "execute_result"
    }
   ],
   "source": [
    "dataset1 = pd.read_csv('data_refined.csv')\n",
    "dataset = dataset1.drop([\"Unnamed: 0\"], axis = 1)\n",
    "\n",
    "dataset_original = dataset.copy() # per instructions we will want a copy before we reduce features to compare anything further with _original utilizes this\n",
    "\n",
    "dataset.head(3)"
   ]
  },
  {
   "cell_type": "markdown",
   "id": "17b9d925-7a60-4124-9c8c-eb639a7ced4c",
   "metadata": {},
   "source": [
    "So my thoughts here are to narrow down the features more, lets maybe loosen up the correlation threshhold and use a heatmap to narrow down the features.  I started at 0.90 from the last one which left me with 21 features, too many I think for this so let's bump that down. we'll visualize the table with the original correlation first here."
   ]
  },
  {
   "cell_type": "code",
   "execution_count": 5,
   "id": "8eec46dd-bb2f-46c3-8e2e-40234d349bd6",
   "metadata": {},
   "outputs": [
    {
     "name": "stdout",
     "output_type": "stream",
     "text": [
      "\n",
      "Correlation Table with Filter Applied:\n"
     ]
    },
    {
     "data": {
      "text/html": [
       "<div>\n",
       "<style scoped>\n",
       "    .dataframe tbody tr th:only-of-type {\n",
       "        vertical-align: middle;\n",
       "    }\n",
       "\n",
       "    .dataframe tbody tr th {\n",
       "        vertical-align: top;\n",
       "    }\n",
       "\n",
       "    .dataframe thead th {\n",
       "        text-align: right;\n",
       "    }\n",
       "</style>\n",
       "<table border=\"1\" class=\"dataframe\">\n",
       "  <thead>\n",
       "    <tr style=\"text-align: right;\">\n",
       "      <th></th>\n",
       "      <th>diagnosis</th>\n",
       "      <th>radius_mean</th>\n",
       "      <th>texture_mean</th>\n",
       "      <th>smoothness_mean</th>\n",
       "      <th>compactness_mean</th>\n",
       "      <th>concavity_mean</th>\n",
       "      <th>symmetry_mean</th>\n",
       "      <th>fractal_dimension_mean</th>\n",
       "      <th>radius_se</th>\n",
       "      <th>texture_se</th>\n",
       "      <th>...</th>\n",
       "      <th>compactness_se</th>\n",
       "      <th>concavity_se</th>\n",
       "      <th>concave points_se</th>\n",
       "      <th>symmetry_se</th>\n",
       "      <th>fractal_dimension_se</th>\n",
       "      <th>smoothness_worst</th>\n",
       "      <th>compactness_worst</th>\n",
       "      <th>concavity_worst</th>\n",
       "      <th>symmetry_worst</th>\n",
       "      <th>fractal_dimension_worst</th>\n",
       "    </tr>\n",
       "  </thead>\n",
       "  <tbody>\n",
       "    <tr>\n",
       "      <th>diagnosis</th>\n",
       "      <td>True</td>\n",
       "      <td>True</td>\n",
       "      <td>False</td>\n",
       "      <td>False</td>\n",
       "      <td>False</td>\n",
       "      <td>False</td>\n",
       "      <td>False</td>\n",
       "      <td>False</td>\n",
       "      <td>False</td>\n",
       "      <td>False</td>\n",
       "      <td>...</td>\n",
       "      <td>False</td>\n",
       "      <td>False</td>\n",
       "      <td>False</td>\n",
       "      <td>False</td>\n",
       "      <td>False</td>\n",
       "      <td>False</td>\n",
       "      <td>False</td>\n",
       "      <td>False</td>\n",
       "      <td>False</td>\n",
       "      <td>False</td>\n",
       "    </tr>\n",
       "    <tr>\n",
       "      <th>radius_mean</th>\n",
       "      <td>True</td>\n",
       "      <td>True</td>\n",
       "      <td>False</td>\n",
       "      <td>False</td>\n",
       "      <td>False</td>\n",
       "      <td>False</td>\n",
       "      <td>False</td>\n",
       "      <td>False</td>\n",
       "      <td>False</td>\n",
       "      <td>False</td>\n",
       "      <td>...</td>\n",
       "      <td>False</td>\n",
       "      <td>False</td>\n",
       "      <td>False</td>\n",
       "      <td>False</td>\n",
       "      <td>False</td>\n",
       "      <td>False</td>\n",
       "      <td>False</td>\n",
       "      <td>False</td>\n",
       "      <td>False</td>\n",
       "      <td>False</td>\n",
       "    </tr>\n",
       "    <tr>\n",
       "      <th>texture_mean</th>\n",
       "      <td>False</td>\n",
       "      <td>False</td>\n",
       "      <td>True</td>\n",
       "      <td>False</td>\n",
       "      <td>False</td>\n",
       "      <td>False</td>\n",
       "      <td>False</td>\n",
       "      <td>False</td>\n",
       "      <td>False</td>\n",
       "      <td>False</td>\n",
       "      <td>...</td>\n",
       "      <td>False</td>\n",
       "      <td>False</td>\n",
       "      <td>False</td>\n",
       "      <td>False</td>\n",
       "      <td>False</td>\n",
       "      <td>False</td>\n",
       "      <td>False</td>\n",
       "      <td>False</td>\n",
       "      <td>False</td>\n",
       "      <td>False</td>\n",
       "    </tr>\n",
       "    <tr>\n",
       "      <th>smoothness_mean</th>\n",
       "      <td>False</td>\n",
       "      <td>False</td>\n",
       "      <td>False</td>\n",
       "      <td>True</td>\n",
       "      <td>False</td>\n",
       "      <td>False</td>\n",
       "      <td>False</td>\n",
       "      <td>False</td>\n",
       "      <td>False</td>\n",
       "      <td>False</td>\n",
       "      <td>...</td>\n",
       "      <td>False</td>\n",
       "      <td>False</td>\n",
       "      <td>False</td>\n",
       "      <td>False</td>\n",
       "      <td>False</td>\n",
       "      <td>True</td>\n",
       "      <td>False</td>\n",
       "      <td>False</td>\n",
       "      <td>False</td>\n",
       "      <td>False</td>\n",
       "    </tr>\n",
       "    <tr>\n",
       "      <th>compactness_mean</th>\n",
       "      <td>False</td>\n",
       "      <td>False</td>\n",
       "      <td>False</td>\n",
       "      <td>False</td>\n",
       "      <td>True</td>\n",
       "      <td>True</td>\n",
       "      <td>False</td>\n",
       "      <td>False</td>\n",
       "      <td>False</td>\n",
       "      <td>False</td>\n",
       "      <td>...</td>\n",
       "      <td>True</td>\n",
       "      <td>False</td>\n",
       "      <td>False</td>\n",
       "      <td>False</td>\n",
       "      <td>False</td>\n",
       "      <td>False</td>\n",
       "      <td>True</td>\n",
       "      <td>True</td>\n",
       "      <td>False</td>\n",
       "      <td>False</td>\n",
       "    </tr>\n",
       "    <tr>\n",
       "      <th>concavity_mean</th>\n",
       "      <td>False</td>\n",
       "      <td>False</td>\n",
       "      <td>False</td>\n",
       "      <td>False</td>\n",
       "      <td>True</td>\n",
       "      <td>True</td>\n",
       "      <td>False</td>\n",
       "      <td>False</td>\n",
       "      <td>False</td>\n",
       "      <td>False</td>\n",
       "      <td>...</td>\n",
       "      <td>False</td>\n",
       "      <td>False</td>\n",
       "      <td>False</td>\n",
       "      <td>False</td>\n",
       "      <td>False</td>\n",
       "      <td>False</td>\n",
       "      <td>True</td>\n",
       "      <td>True</td>\n",
       "      <td>False</td>\n",
       "      <td>False</td>\n",
       "    </tr>\n",
       "    <tr>\n",
       "      <th>symmetry_mean</th>\n",
       "      <td>False</td>\n",
       "      <td>False</td>\n",
       "      <td>False</td>\n",
       "      <td>False</td>\n",
       "      <td>False</td>\n",
       "      <td>False</td>\n",
       "      <td>True</td>\n",
       "      <td>False</td>\n",
       "      <td>False</td>\n",
       "      <td>False</td>\n",
       "      <td>...</td>\n",
       "      <td>False</td>\n",
       "      <td>False</td>\n",
       "      <td>False</td>\n",
       "      <td>False</td>\n",
       "      <td>False</td>\n",
       "      <td>False</td>\n",
       "      <td>False</td>\n",
       "      <td>False</td>\n",
       "      <td>False</td>\n",
       "      <td>False</td>\n",
       "    </tr>\n",
       "    <tr>\n",
       "      <th>fractal_dimension_mean</th>\n",
       "      <td>False</td>\n",
       "      <td>False</td>\n",
       "      <td>False</td>\n",
       "      <td>False</td>\n",
       "      <td>False</td>\n",
       "      <td>False</td>\n",
       "      <td>False</td>\n",
       "      <td>True</td>\n",
       "      <td>False</td>\n",
       "      <td>False</td>\n",
       "      <td>...</td>\n",
       "      <td>False</td>\n",
       "      <td>False</td>\n",
       "      <td>False</td>\n",
       "      <td>False</td>\n",
       "      <td>False</td>\n",
       "      <td>False</td>\n",
       "      <td>False</td>\n",
       "      <td>False</td>\n",
       "      <td>False</td>\n",
       "      <td>True</td>\n",
       "    </tr>\n",
       "    <tr>\n",
       "      <th>radius_se</th>\n",
       "      <td>False</td>\n",
       "      <td>False</td>\n",
       "      <td>False</td>\n",
       "      <td>False</td>\n",
       "      <td>False</td>\n",
       "      <td>False</td>\n",
       "      <td>False</td>\n",
       "      <td>False</td>\n",
       "      <td>True</td>\n",
       "      <td>False</td>\n",
       "      <td>...</td>\n",
       "      <td>False</td>\n",
       "      <td>False</td>\n",
       "      <td>False</td>\n",
       "      <td>False</td>\n",
       "      <td>False</td>\n",
       "      <td>False</td>\n",
       "      <td>False</td>\n",
       "      <td>False</td>\n",
       "      <td>False</td>\n",
       "      <td>False</td>\n",
       "    </tr>\n",
       "    <tr>\n",
       "      <th>texture_se</th>\n",
       "      <td>False</td>\n",
       "      <td>False</td>\n",
       "      <td>False</td>\n",
       "      <td>False</td>\n",
       "      <td>False</td>\n",
       "      <td>False</td>\n",
       "      <td>False</td>\n",
       "      <td>False</td>\n",
       "      <td>False</td>\n",
       "      <td>True</td>\n",
       "      <td>...</td>\n",
       "      <td>False</td>\n",
       "      <td>False</td>\n",
       "      <td>False</td>\n",
       "      <td>False</td>\n",
       "      <td>False</td>\n",
       "      <td>False</td>\n",
       "      <td>False</td>\n",
       "      <td>False</td>\n",
       "      <td>False</td>\n",
       "      <td>False</td>\n",
       "    </tr>\n",
       "    <tr>\n",
       "      <th>smoothness_se</th>\n",
       "      <td>False</td>\n",
       "      <td>False</td>\n",
       "      <td>False</td>\n",
       "      <td>False</td>\n",
       "      <td>False</td>\n",
       "      <td>False</td>\n",
       "      <td>False</td>\n",
       "      <td>False</td>\n",
       "      <td>False</td>\n",
       "      <td>False</td>\n",
       "      <td>...</td>\n",
       "      <td>False</td>\n",
       "      <td>False</td>\n",
       "      <td>False</td>\n",
       "      <td>False</td>\n",
       "      <td>False</td>\n",
       "      <td>False</td>\n",
       "      <td>False</td>\n",
       "      <td>False</td>\n",
       "      <td>False</td>\n",
       "      <td>False</td>\n",
       "    </tr>\n",
       "    <tr>\n",
       "      <th>compactness_se</th>\n",
       "      <td>False</td>\n",
       "      <td>False</td>\n",
       "      <td>False</td>\n",
       "      <td>False</td>\n",
       "      <td>True</td>\n",
       "      <td>False</td>\n",
       "      <td>False</td>\n",
       "      <td>False</td>\n",
       "      <td>False</td>\n",
       "      <td>False</td>\n",
       "      <td>...</td>\n",
       "      <td>True</td>\n",
       "      <td>True</td>\n",
       "      <td>True</td>\n",
       "      <td>False</td>\n",
       "      <td>True</td>\n",
       "      <td>False</td>\n",
       "      <td>False</td>\n",
       "      <td>False</td>\n",
       "      <td>False</td>\n",
       "      <td>False</td>\n",
       "    </tr>\n",
       "    <tr>\n",
       "      <th>concavity_se</th>\n",
       "      <td>False</td>\n",
       "      <td>False</td>\n",
       "      <td>False</td>\n",
       "      <td>False</td>\n",
       "      <td>False</td>\n",
       "      <td>False</td>\n",
       "      <td>False</td>\n",
       "      <td>False</td>\n",
       "      <td>False</td>\n",
       "      <td>False</td>\n",
       "      <td>...</td>\n",
       "      <td>True</td>\n",
       "      <td>True</td>\n",
       "      <td>True</td>\n",
       "      <td>False</td>\n",
       "      <td>True</td>\n",
       "      <td>False</td>\n",
       "      <td>False</td>\n",
       "      <td>False</td>\n",
       "      <td>False</td>\n",
       "      <td>False</td>\n",
       "    </tr>\n",
       "    <tr>\n",
       "      <th>concave points_se</th>\n",
       "      <td>False</td>\n",
       "      <td>False</td>\n",
       "      <td>False</td>\n",
       "      <td>False</td>\n",
       "      <td>False</td>\n",
       "      <td>False</td>\n",
       "      <td>False</td>\n",
       "      <td>False</td>\n",
       "      <td>False</td>\n",
       "      <td>False</td>\n",
       "      <td>...</td>\n",
       "      <td>True</td>\n",
       "      <td>True</td>\n",
       "      <td>True</td>\n",
       "      <td>False</td>\n",
       "      <td>False</td>\n",
       "      <td>False</td>\n",
       "      <td>False</td>\n",
       "      <td>False</td>\n",
       "      <td>False</td>\n",
       "      <td>False</td>\n",
       "    </tr>\n",
       "    <tr>\n",
       "      <th>symmetry_se</th>\n",
       "      <td>False</td>\n",
       "      <td>False</td>\n",
       "      <td>False</td>\n",
       "      <td>False</td>\n",
       "      <td>False</td>\n",
       "      <td>False</td>\n",
       "      <td>False</td>\n",
       "      <td>False</td>\n",
       "      <td>False</td>\n",
       "      <td>False</td>\n",
       "      <td>...</td>\n",
       "      <td>False</td>\n",
       "      <td>False</td>\n",
       "      <td>False</td>\n",
       "      <td>True</td>\n",
       "      <td>False</td>\n",
       "      <td>False</td>\n",
       "      <td>False</td>\n",
       "      <td>False</td>\n",
       "      <td>False</td>\n",
       "      <td>False</td>\n",
       "    </tr>\n",
       "    <tr>\n",
       "      <th>fractal_dimension_se</th>\n",
       "      <td>False</td>\n",
       "      <td>False</td>\n",
       "      <td>False</td>\n",
       "      <td>False</td>\n",
       "      <td>False</td>\n",
       "      <td>False</td>\n",
       "      <td>False</td>\n",
       "      <td>False</td>\n",
       "      <td>False</td>\n",
       "      <td>False</td>\n",
       "      <td>...</td>\n",
       "      <td>True</td>\n",
       "      <td>True</td>\n",
       "      <td>False</td>\n",
       "      <td>False</td>\n",
       "      <td>True</td>\n",
       "      <td>False</td>\n",
       "      <td>False</td>\n",
       "      <td>False</td>\n",
       "      <td>False</td>\n",
       "      <td>False</td>\n",
       "    </tr>\n",
       "    <tr>\n",
       "      <th>smoothness_worst</th>\n",
       "      <td>False</td>\n",
       "      <td>False</td>\n",
       "      <td>False</td>\n",
       "      <td>True</td>\n",
       "      <td>False</td>\n",
       "      <td>False</td>\n",
       "      <td>False</td>\n",
       "      <td>False</td>\n",
       "      <td>False</td>\n",
       "      <td>False</td>\n",
       "      <td>...</td>\n",
       "      <td>False</td>\n",
       "      <td>False</td>\n",
       "      <td>False</td>\n",
       "      <td>False</td>\n",
       "      <td>False</td>\n",
       "      <td>True</td>\n",
       "      <td>False</td>\n",
       "      <td>False</td>\n",
       "      <td>False</td>\n",
       "      <td>False</td>\n",
       "    </tr>\n",
       "    <tr>\n",
       "      <th>compactness_worst</th>\n",
       "      <td>False</td>\n",
       "      <td>False</td>\n",
       "      <td>False</td>\n",
       "      <td>False</td>\n",
       "      <td>True</td>\n",
       "      <td>True</td>\n",
       "      <td>False</td>\n",
       "      <td>False</td>\n",
       "      <td>False</td>\n",
       "      <td>False</td>\n",
       "      <td>...</td>\n",
       "      <td>False</td>\n",
       "      <td>False</td>\n",
       "      <td>False</td>\n",
       "      <td>False</td>\n",
       "      <td>False</td>\n",
       "      <td>False</td>\n",
       "      <td>True</td>\n",
       "      <td>True</td>\n",
       "      <td>False</td>\n",
       "      <td>True</td>\n",
       "    </tr>\n",
       "    <tr>\n",
       "      <th>concavity_worst</th>\n",
       "      <td>False</td>\n",
       "      <td>False</td>\n",
       "      <td>False</td>\n",
       "      <td>False</td>\n",
       "      <td>True</td>\n",
       "      <td>True</td>\n",
       "      <td>False</td>\n",
       "      <td>False</td>\n",
       "      <td>False</td>\n",
       "      <td>False</td>\n",
       "      <td>...</td>\n",
       "      <td>False</td>\n",
       "      <td>False</td>\n",
       "      <td>False</td>\n",
       "      <td>False</td>\n",
       "      <td>False</td>\n",
       "      <td>False</td>\n",
       "      <td>True</td>\n",
       "      <td>True</td>\n",
       "      <td>False</td>\n",
       "      <td>False</td>\n",
       "    </tr>\n",
       "    <tr>\n",
       "      <th>symmetry_worst</th>\n",
       "      <td>False</td>\n",
       "      <td>False</td>\n",
       "      <td>False</td>\n",
       "      <td>False</td>\n",
       "      <td>False</td>\n",
       "      <td>False</td>\n",
       "      <td>False</td>\n",
       "      <td>False</td>\n",
       "      <td>False</td>\n",
       "      <td>False</td>\n",
       "      <td>...</td>\n",
       "      <td>False</td>\n",
       "      <td>False</td>\n",
       "      <td>False</td>\n",
       "      <td>False</td>\n",
       "      <td>False</td>\n",
       "      <td>False</td>\n",
       "      <td>False</td>\n",
       "      <td>False</td>\n",
       "      <td>True</td>\n",
       "      <td>False</td>\n",
       "    </tr>\n",
       "    <tr>\n",
       "      <th>fractal_dimension_worst</th>\n",
       "      <td>False</td>\n",
       "      <td>False</td>\n",
       "      <td>False</td>\n",
       "      <td>False</td>\n",
       "      <td>False</td>\n",
       "      <td>False</td>\n",
       "      <td>False</td>\n",
       "      <td>True</td>\n",
       "      <td>False</td>\n",
       "      <td>False</td>\n",
       "      <td>...</td>\n",
       "      <td>False</td>\n",
       "      <td>False</td>\n",
       "      <td>False</td>\n",
       "      <td>False</td>\n",
       "      <td>False</td>\n",
       "      <td>False</td>\n",
       "      <td>True</td>\n",
       "      <td>False</td>\n",
       "      <td>False</td>\n",
       "      <td>True</td>\n",
       "    </tr>\n",
       "  </tbody>\n",
       "</table>\n",
       "<p>21 rows × 21 columns</p>\n",
       "</div>"
      ],
      "text/plain": [
       "                         diagnosis  radius_mean  texture_mean  \\\n",
       "diagnosis                     True         True         False   \n",
       "radius_mean                   True         True         False   \n",
       "texture_mean                 False        False          True   \n",
       "smoothness_mean              False        False         False   \n",
       "compactness_mean             False        False         False   \n",
       "concavity_mean               False        False         False   \n",
       "symmetry_mean                False        False         False   \n",
       "fractal_dimension_mean       False        False         False   \n",
       "radius_se                    False        False         False   \n",
       "texture_se                   False        False         False   \n",
       "smoothness_se                False        False         False   \n",
       "compactness_se               False        False         False   \n",
       "concavity_se                 False        False         False   \n",
       "concave points_se            False        False         False   \n",
       "symmetry_se                  False        False         False   \n",
       "fractal_dimension_se         False        False         False   \n",
       "smoothness_worst             False        False         False   \n",
       "compactness_worst            False        False         False   \n",
       "concavity_worst              False        False         False   \n",
       "symmetry_worst               False        False         False   \n",
       "fractal_dimension_worst      False        False         False   \n",
       "\n",
       "                         smoothness_mean  compactness_mean  concavity_mean  \\\n",
       "diagnosis                          False             False           False   \n",
       "radius_mean                        False             False           False   \n",
       "texture_mean                       False             False           False   \n",
       "smoothness_mean                     True             False           False   \n",
       "compactness_mean                   False              True            True   \n",
       "concavity_mean                     False              True            True   \n",
       "symmetry_mean                      False             False           False   \n",
       "fractal_dimension_mean             False             False           False   \n",
       "radius_se                          False             False           False   \n",
       "texture_se                         False             False           False   \n",
       "smoothness_se                      False             False           False   \n",
       "compactness_se                     False              True           False   \n",
       "concavity_se                       False             False           False   \n",
       "concave points_se                  False             False           False   \n",
       "symmetry_se                        False             False           False   \n",
       "fractal_dimension_se               False             False           False   \n",
       "smoothness_worst                    True             False           False   \n",
       "compactness_worst                  False              True            True   \n",
       "concavity_worst                    False              True            True   \n",
       "symmetry_worst                     False             False           False   \n",
       "fractal_dimension_worst            False             False           False   \n",
       "\n",
       "                         symmetry_mean  fractal_dimension_mean  radius_se  \\\n",
       "diagnosis                        False                   False      False   \n",
       "radius_mean                      False                   False      False   \n",
       "texture_mean                     False                   False      False   \n",
       "smoothness_mean                  False                   False      False   \n",
       "compactness_mean                 False                   False      False   \n",
       "concavity_mean                   False                   False      False   \n",
       "symmetry_mean                     True                   False      False   \n",
       "fractal_dimension_mean           False                    True      False   \n",
       "radius_se                        False                   False       True   \n",
       "texture_se                       False                   False      False   \n",
       "smoothness_se                    False                   False      False   \n",
       "compactness_se                   False                   False      False   \n",
       "concavity_se                     False                   False      False   \n",
       "concave points_se                False                   False      False   \n",
       "symmetry_se                      False                   False      False   \n",
       "fractal_dimension_se             False                   False      False   \n",
       "smoothness_worst                 False                   False      False   \n",
       "compactness_worst                False                   False      False   \n",
       "concavity_worst                  False                   False      False   \n",
       "symmetry_worst                   False                   False      False   \n",
       "fractal_dimension_worst          False                    True      False   \n",
       "\n",
       "                         texture_se  ...  compactness_se  concavity_se  \\\n",
       "diagnosis                     False  ...           False         False   \n",
       "radius_mean                   False  ...           False         False   \n",
       "texture_mean                  False  ...           False         False   \n",
       "smoothness_mean               False  ...           False         False   \n",
       "compactness_mean              False  ...            True         False   \n",
       "concavity_mean                False  ...           False         False   \n",
       "symmetry_mean                 False  ...           False         False   \n",
       "fractal_dimension_mean        False  ...           False         False   \n",
       "radius_se                     False  ...           False         False   \n",
       "texture_se                     True  ...           False         False   \n",
       "smoothness_se                 False  ...           False         False   \n",
       "compactness_se                False  ...            True          True   \n",
       "concavity_se                  False  ...            True          True   \n",
       "concave points_se             False  ...            True          True   \n",
       "symmetry_se                   False  ...           False         False   \n",
       "fractal_dimension_se          False  ...            True          True   \n",
       "smoothness_worst              False  ...           False         False   \n",
       "compactness_worst             False  ...           False         False   \n",
       "concavity_worst               False  ...           False         False   \n",
       "symmetry_worst                False  ...           False         False   \n",
       "fractal_dimension_worst       False  ...           False         False   \n",
       "\n",
       "                         concave points_se  symmetry_se  fractal_dimension_se  \\\n",
       "diagnosis                            False        False                 False   \n",
       "radius_mean                          False        False                 False   \n",
       "texture_mean                         False        False                 False   \n",
       "smoothness_mean                      False        False                 False   \n",
       "compactness_mean                     False        False                 False   \n",
       "concavity_mean                       False        False                 False   \n",
       "symmetry_mean                        False        False                 False   \n",
       "fractal_dimension_mean               False        False                 False   \n",
       "radius_se                            False        False                 False   \n",
       "texture_se                           False        False                 False   \n",
       "smoothness_se                        False        False                 False   \n",
       "compactness_se                        True        False                  True   \n",
       "concavity_se                          True        False                  True   \n",
       "concave points_se                     True        False                 False   \n",
       "symmetry_se                          False         True                 False   \n",
       "fractal_dimension_se                 False        False                  True   \n",
       "smoothness_worst                     False        False                 False   \n",
       "compactness_worst                    False        False                 False   \n",
       "concavity_worst                      False        False                 False   \n",
       "symmetry_worst                       False        False                 False   \n",
       "fractal_dimension_worst              False        False                 False   \n",
       "\n",
       "                         smoothness_worst  compactness_worst  concavity_worst  \\\n",
       "diagnosis                           False              False            False   \n",
       "radius_mean                         False              False            False   \n",
       "texture_mean                        False              False            False   \n",
       "smoothness_mean                      True              False            False   \n",
       "compactness_mean                    False               True             True   \n",
       "concavity_mean                      False               True             True   \n",
       "symmetry_mean                       False              False            False   \n",
       "fractal_dimension_mean              False              False            False   \n",
       "radius_se                           False              False            False   \n",
       "texture_se                          False              False            False   \n",
       "smoothness_se                       False              False            False   \n",
       "compactness_se                      False              False            False   \n",
       "concavity_se                        False              False            False   \n",
       "concave points_se                   False              False            False   \n",
       "symmetry_se                         False              False            False   \n",
       "fractal_dimension_se                False              False            False   \n",
       "smoothness_worst                     True              False            False   \n",
       "compactness_worst                   False               True             True   \n",
       "concavity_worst                     False               True             True   \n",
       "symmetry_worst                      False              False            False   \n",
       "fractal_dimension_worst             False               True            False   \n",
       "\n",
       "                         symmetry_worst  fractal_dimension_worst  \n",
       "diagnosis                         False                    False  \n",
       "radius_mean                       False                    False  \n",
       "texture_mean                      False                    False  \n",
       "smoothness_mean                   False                    False  \n",
       "compactness_mean                  False                    False  \n",
       "concavity_mean                    False                    False  \n",
       "symmetry_mean                     False                    False  \n",
       "fractal_dimension_mean            False                     True  \n",
       "radius_se                         False                    False  \n",
       "texture_se                        False                    False  \n",
       "smoothness_se                     False                    False  \n",
       "compactness_se                    False                    False  \n",
       "concavity_se                      False                    False  \n",
       "concave points_se                 False                    False  \n",
       "symmetry_se                       False                    False  \n",
       "fractal_dimension_se              False                    False  \n",
       "smoothness_worst                  False                    False  \n",
       "compactness_worst                 False                     True  \n",
       "concavity_worst                   False                    False  \n",
       "symmetry_worst                     True                    False  \n",
       "fractal_dimension_worst           False                     True  \n",
       "\n",
       "[21 rows x 21 columns]"
      ]
     },
     "metadata": {},
     "output_type": "display_data"
    }
   ],
   "source": [
    "correlation_threshold = 0.70\n",
    "\n",
    "correlated_pairs = np.abs(dataset.corr()) > correlation_threshold\n",
    "print(\"\\nCorrelation Table with Filter Applied:\"), display(correlated_pairs)\n",
    "\n",
    "correlated_pairs = np.column_stack(np.where(np.abs(dataset.corr()) > correlation_threshold))"
   ]
  },
  {
   "cell_type": "code",
   "execution_count": 6,
   "id": "c4e4231a-79e1-492d-8b76-35eea693d778",
   "metadata": {},
   "outputs": [],
   "source": [
    "drop_list = []\n",
    "# Drop one column from each correlated pair\n",
    "for col1, col2 in correlated_pairs:\n",
    "    #print(col1, col2)\n",
    "    if col1 == \"diagnosis\" or col2 == \"diagnosis\":\n",
    "        pass\n",
    "    if col1 != col2 and col1 < col2:\n",
    "        col_to_drop = dataset.columns[col2]\n",
    "        #print(col_to_drop)\n",
    "        if col_to_drop in drop_list:\n",
    "            pass\n",
    "        else:\n",
    "            drop_list.append(col_to_drop)\n",
    "       #Commenting this for a bit less clutter but keeping in case you want to see print(drop_list)\n",
    "        \n",
    "drop_filter = dataset.filter(drop_list)\n",
    "dataset.drop(drop_filter, inplace = True, axis=1)"
   ]
  },
  {
   "cell_type": "code",
   "execution_count": 7,
   "id": "46cb4a42-eb39-4dfb-b64e-b727aedd7696",
   "metadata": {},
   "outputs": [
    {
     "data": {
      "text/plain": [
       "11"
      ]
     },
     "execution_count": 7,
     "metadata": {},
     "output_type": "execute_result"
    }
   ],
   "source": [
    "#print(f\"DataFrame after dropping correlated columns (threshold={correlation_threshold}):\") ended up with 11 columns though not saying it\n",
    "dataset.head(3)\n",
    "dataset.columns\n",
    "len(dataset.columns)"
   ]
  },
  {
   "cell_type": "code",
   "execution_count": 8,
   "id": "79e138eb-1df4-450e-8858-9f07861fdae7",
   "metadata": {},
   "outputs": [
    {
     "data": {
      "text/html": [
       "<div>\n",
       "<style scoped>\n",
       "    .dataframe tbody tr th:only-of-type {\n",
       "        vertical-align: middle;\n",
       "    }\n",
       "\n",
       "    .dataframe tbody tr th {\n",
       "        vertical-align: top;\n",
       "    }\n",
       "\n",
       "    .dataframe thead th {\n",
       "        text-align: right;\n",
       "    }\n",
       "</style>\n",
       "<table border=\"1\" class=\"dataframe\">\n",
       "  <thead>\n",
       "    <tr style=\"text-align: right;\">\n",
       "      <th></th>\n",
       "      <th>diagnosis</th>\n",
       "      <th>radius_mean</th>\n",
       "      <th>texture_mean</th>\n",
       "      <th>smoothness_mean</th>\n",
       "      <th>compactness_mean</th>\n",
       "      <th>concavity_mean</th>\n",
       "      <th>symmetry_mean</th>\n",
       "      <th>fractal_dimension_mean</th>\n",
       "      <th>radius_se</th>\n",
       "      <th>texture_se</th>\n",
       "      <th>...</th>\n",
       "      <th>compactness_se</th>\n",
       "      <th>concavity_se</th>\n",
       "      <th>concave points_se</th>\n",
       "      <th>symmetry_se</th>\n",
       "      <th>fractal_dimension_se</th>\n",
       "      <th>smoothness_worst</th>\n",
       "      <th>compactness_worst</th>\n",
       "      <th>concavity_worst</th>\n",
       "      <th>symmetry_worst</th>\n",
       "      <th>fractal_dimension_worst</th>\n",
       "    </tr>\n",
       "  </thead>\n",
       "  <tbody>\n",
       "    <tr>\n",
       "      <th>0</th>\n",
       "      <td>1</td>\n",
       "      <td>1.097064</td>\n",
       "      <td>-2.073335</td>\n",
       "      <td>1.568466</td>\n",
       "      <td>3.283515</td>\n",
       "      <td>2.652874</td>\n",
       "      <td>2.217515</td>\n",
       "      <td>2.255747</td>\n",
       "      <td>2.489734</td>\n",
       "      <td>-0.565265</td>\n",
       "      <td>...</td>\n",
       "      <td>1.316862</td>\n",
       "      <td>0.724026</td>\n",
       "      <td>0.660820</td>\n",
       "      <td>1.148757</td>\n",
       "      <td>0.907083</td>\n",
       "      <td>1.307686</td>\n",
       "      <td>2.616665</td>\n",
       "      <td>2.109526</td>\n",
       "      <td>2.750622</td>\n",
       "      <td>1.937015</td>\n",
       "    </tr>\n",
       "    <tr>\n",
       "      <th>1</th>\n",
       "      <td>1</td>\n",
       "      <td>1.829821</td>\n",
       "      <td>-0.353632</td>\n",
       "      <td>-0.826962</td>\n",
       "      <td>-0.487072</td>\n",
       "      <td>-0.023846</td>\n",
       "      <td>0.001392</td>\n",
       "      <td>-0.868652</td>\n",
       "      <td>0.499255</td>\n",
       "      <td>-0.876244</td>\n",
       "      <td>...</td>\n",
       "      <td>-0.692926</td>\n",
       "      <td>-0.440780</td>\n",
       "      <td>0.260162</td>\n",
       "      <td>-0.805450</td>\n",
       "      <td>-0.099444</td>\n",
       "      <td>-0.375612</td>\n",
       "      <td>-0.430444</td>\n",
       "      <td>-0.146749</td>\n",
       "      <td>-0.243890</td>\n",
       "      <td>0.281190</td>\n",
       "    </tr>\n",
       "    <tr>\n",
       "      <th>2</th>\n",
       "      <td>1</td>\n",
       "      <td>1.579888</td>\n",
       "      <td>0.456187</td>\n",
       "      <td>0.942210</td>\n",
       "      <td>1.052926</td>\n",
       "      <td>1.363478</td>\n",
       "      <td>0.939685</td>\n",
       "      <td>-0.398008</td>\n",
       "      <td>1.228676</td>\n",
       "      <td>-0.780083</td>\n",
       "      <td>...</td>\n",
       "      <td>0.814974</td>\n",
       "      <td>0.213076</td>\n",
       "      <td>1.424827</td>\n",
       "      <td>0.237036</td>\n",
       "      <td>0.293559</td>\n",
       "      <td>0.527407</td>\n",
       "      <td>1.082932</td>\n",
       "      <td>0.854974</td>\n",
       "      <td>1.152255</td>\n",
       "      <td>0.201391</td>\n",
       "    </tr>\n",
       "  </tbody>\n",
       "</table>\n",
       "<p>3 rows × 21 columns</p>\n",
       "</div>"
      ],
      "text/plain": [
       "   diagnosis  radius_mean  texture_mean  smoothness_mean  compactness_mean  \\\n",
       "0          1     1.097064     -2.073335         1.568466          3.283515   \n",
       "1          1     1.829821     -0.353632        -0.826962         -0.487072   \n",
       "2          1     1.579888      0.456187         0.942210          1.052926   \n",
       "\n",
       "   concavity_mean  symmetry_mean  fractal_dimension_mean  radius_se  \\\n",
       "0        2.652874       2.217515                2.255747   2.489734   \n",
       "1       -0.023846       0.001392               -0.868652   0.499255   \n",
       "2        1.363478       0.939685               -0.398008   1.228676   \n",
       "\n",
       "   texture_se  ...  compactness_se  concavity_se  concave points_se  \\\n",
       "0   -0.565265  ...        1.316862      0.724026           0.660820   \n",
       "1   -0.876244  ...       -0.692926     -0.440780           0.260162   \n",
       "2   -0.780083  ...        0.814974      0.213076           1.424827   \n",
       "\n",
       "   symmetry_se  fractal_dimension_se  smoothness_worst  compactness_worst  \\\n",
       "0     1.148757              0.907083          1.307686           2.616665   \n",
       "1    -0.805450             -0.099444         -0.375612          -0.430444   \n",
       "2     0.237036              0.293559          0.527407           1.082932   \n",
       "\n",
       "   concavity_worst  symmetry_worst  fractal_dimension_worst  \n",
       "0         2.109526        2.750622                 1.937015  \n",
       "1        -0.146749       -0.243890                 0.281190  \n",
       "2         0.854974        1.152255                 0.201391  \n",
       "\n",
       "[3 rows x 21 columns]"
      ]
     },
     "execution_count": 8,
     "metadata": {},
     "output_type": "execute_result"
    }
   ],
   "source": [
    "dataset_original.head(3) #making sure the copy worked and has all the features still for the comparison"
   ]
  },
  {
   "cell_type": "code",
   "execution_count": 9,
   "id": "4a966a65-75f3-495a-80fb-ca8d93f7c3d0",
   "metadata": {},
   "outputs": [
    {
     "data": {
      "text/plain": [
       "['diagnosis',\n",
       " 'texture_mean',\n",
       " 'smoothness_mean',\n",
       " 'compactness_mean',\n",
       " 'symmetry_mean',\n",
       " 'fractal_dimension_mean',\n",
       " 'radius_se',\n",
       " 'texture_se',\n",
       " 'smoothness_se',\n",
       " 'symmetry_se',\n",
       " 'symmetry_worst']"
      ]
     },
     "execution_count": 9,
     "metadata": {},
     "output_type": "execute_result"
    }
   ],
   "source": [
    "list(dataset.columns.values) #List of the remaining features after reducing by broadening the correlation"
   ]
  },
  {
   "cell_type": "code",
   "execution_count": 10,
   "id": "8cba1682-cc5d-45ac-a02b-51b4f236d293",
   "metadata": {},
   "outputs": [
    {
     "data": {
      "text/plain": [
       "Text(0.5, 1.0, 'Correlated Heatmap on reduction')"
      ]
     },
     "execution_count": 10,
     "metadata": {},
     "output_type": "execute_result"
    },
    {
     "data": {
      "image/png": "[encoded data removed]",
      "text/plain": [
       "<Figure size 1500x1500 with 2 Axes>"
      ]
     },
     "metadata": {},
     "output_type": "display_data"
    }
   ],
   "source": [
    "#let's visualize the remaining with a heatmap to see if the smoothness and symetry, as there are two different features of with those\n",
    "#as part of the title i'm not sure if they maybe should be removed?  However they do see different based on the heatmap so not yet.\n",
    "plt.figure(figsize=(15,15))\n",
    "sns.heatmap(dataset.corr(), annot=True).set_title('Correlated Heatmap on reduction')\n",
    "\n"
   ]
  },
  {
   "cell_type": "code",
   "execution_count": 11,
   "id": "fde122dd-2678-4d0d-9656-77975b2b502a",
   "metadata": {},
   "outputs": [],
   "source": [
    "encoded_y = dataset.iloc[:, 0].values\n",
    "encoded_x = dataset.iloc[:, 1:11].values\n",
    "\n",
    "# train is now 80% of the entire data set\n",
    "X_train, X_test, y_train, y_test = train_test_split(encoded_x, encoded_y, test_size=0.2)\n",
    "\n",
    "# test is now 10% of the initial data set\n",
    "# validation is now 10% of the initial data set\n",
    "X_val, X_test, y_val, y_test = train_test_split(X_test, y_test, test_size=.5) \n",
    "\n",
    "# uncomment to see if you want below, just tidying\n",
    "#print(X_train, X_val, X_test)\n"
   ]
  },
  {
   "cell_type": "code",
   "execution_count": 12,
   "id": "1bddb09d-101e-4836-af57-cd22ef7c3060",
   "metadata": {},
   "outputs": [],
   "source": [
    "#We  need to do the same with our original data to compare\n",
    "encoded_y_original = dataset_original.iloc[:, 0].values\n",
    "encoded_x_original = dataset_original.iloc[:, 1:21].values\n",
    "\n",
    "# train is now 80% of the entire data set\n",
    "X_train_original, X_test_original, y_train_original, y_test_original = train_test_split(encoded_x_original, encoded_y_original, test_size=0.2)\n",
    "\n",
    "# test is now 10% of the initial data set\n",
    "# validation is now 10% of the initial data set\n",
    "X_val_original, X_test_original, y_val_original, y_test_original = train_test_split(X_test_original, y_test_original, test_size=.5) \n",
    "\n",
    "# uncomment to see if you want below, just tidying\n",
    "#print(X_train_original, X_val_original, X_test_original)"
   ]
  },
  {
   "cell_type": "markdown",
   "id": "deb14f20-ef30-4a51-8f5f-b36771dcbfb9",
   "metadata": {},
   "source": [
    "## Training classifiers starting  with KNN"
   ]
  },
  {
   "cell_type": "markdown",
   "id": "9d28781d-9eda-43f9-8a62-0ad1b9f6bab1",
   "metadata": {},
   "source": [
    "### Original data with confusion matrix\n",
    "I went a bit overboard here by doing two full versions of this one with the original data and one with only the 11 features remaining.  However I really felt like doing this as an exercise was connecting some of the dots in my head in putting together different things that we had done and visualizing (though I still find i'm struggling with what the data means yet at the end a bit)\n",
    "\n",
    "So while this is a lot in the sections below it was really helpful for me to see where I need to make adjustments a bit and more of an exploratory exercise for myself I guess."
   ]
  },
  {
   "cell_type": "code",
   "execution_count": 13,
   "id": "23a9bafd-5c03-487f-a653-3d6550c9641d",
   "metadata": {},
   "outputs": [],
   "source": [
    "# Make a loop to run a range of nearest neighbours to find the best model starting small\n",
    "\n",
    "err_rate_original = []\n",
    "accuracy_original = []\n",
    "\n",
    "for i in range(2,22):\n",
    "    knn_original = KNeighborsClassifier(n_neighbors = i)\n",
    "    knn_original.fit(X_train_original, y_train_original)\n",
    "    predictions_i_original = knn_original.predict(X_test_original)\n",
    "    \n",
    "    err_rate_original.append(np.mean(predictions_i_original != y_test_original))\n",
    "    accuracy_original.append(knn_original.score(X_test_original, y_test_original))"
   ]
  },
  {
   "cell_type": "code",
   "execution_count": 14,
   "id": "22e0fd9d-cf89-4ac6-aebc-d8a5b69e1b52",
   "metadata": {},
   "outputs": [
    {
     "data": {
      "image/png": "[encoded data removed]",
      "text/plain": [
       "<Figure size 1000x400 with 1 Axes>"
      ]
     },
     "metadata": {},
     "output_type": "display_data"
    }
   ],
   "source": [
    "#let's visualize it with a plot too\n",
    "plt.figure(figsize = (10,4))\n",
    "\n",
    "#plt.plot(range(2,22), err_rate_original, color =\"green\" ) We switched from err_rate to accuracy just to make sure it was functioning properly\n",
    "#It is just not so much with 1 neighbour so we changed range to minimum of 2 as it was causing issues \n",
    "plt.plot(range(2,22), accuracy_original, color =\"green\" )\n",
    "plt.title(\"Accuracy Rate vs: K value\")\n",
    "plt.xlabel(\"Number of Neighbors\")\n",
    "plt.ylabel(\"Accuracy Rate\")\n",
    "\n",
    "plt.show()"
   ]
  },
  {
   "cell_type": "code",
   "execution_count": 15,
   "id": "ca4675a9-88ad-4f51-a253-bf5c58405647",
   "metadata": {},
   "outputs": [
    {
     "data": {
      "text/plain": [
       "0.017543859649122806"
      ]
     },
     "execution_count": 15,
     "metadata": {},
     "output_type": "execute_result"
    }
   ],
   "source": [
    "min(err_rate_original)"
   ]
  },
  {
   "cell_type": "code",
   "execution_count": 16,
   "id": "2cd31ec6-9835-4666-95db-3fb612c5dff0",
   "metadata": {},
   "outputs": [
    {
     "name": "stdout",
     "output_type": "stream",
     "text": [
      "1\n"
     ]
    }
   ],
   "source": [
    "min(err_rate_original)\n",
    "best_knn_original = err_rate_original.index(min(err_rate_original)) + 1 #Could use 'min(err_rate)' instead of hardcoding 0.07 \n",
    "print(best_knn_original)"
   ]
  },
  {
   "cell_type": "code",
   "execution_count": 17,
   "id": "b5e3e2f8-9d58-4546-afd8-867b52d9ac53",
   "metadata": {},
   "outputs": [
    {
     "name": "stdout",
     "output_type": "stream",
     "text": [
      "0.9649122807017544\n"
     ]
    }
   ],
   "source": [
    "# Run the best model\n",
    "\n",
    "best_knn_model_original = KNeighborsClassifier(n_neighbors = best_knn_original)\n",
    "best_knn_model_original.fit(X_train_original, y_train_original)\n",
    "predictions_best = best_knn_model_original.predict(X_test_original)\n",
    "\n",
    "print(best_knn_model_original.score(X_test_original, y_test_original))"
   ]
  },
  {
   "cell_type": "code",
   "execution_count": 18,
   "id": "e10d6f92-c897-43af-8eda-815fff875b0f",
   "metadata": {},
   "outputs": [
    {
     "name": "stdout",
     "output_type": "stream",
     "text": [
      "[[35  2]\n",
      " [ 0 20]]\n"
     ]
    },
    {
     "data": {
      "text/plain": [
       "Text(0.5, 1.0, 'Breast Cancer Predictions Heat Map')"
      ]
     },
     "execution_count": 18,
     "metadata": {},
     "output_type": "execute_result"
    },
    {
     "data": {
      "image/png": "[encoded data removed]",
      "text/plain": [
       "<Figure size 640x480 with 2 Axes>"
      ]
     },
     "metadata": {},
     "output_type": "display_data"
    }
   ],
   "source": [
    "predictions_original = best_knn_model_original.predict(X_test_original)\n",
    "print(confusion_matrix(y_test_original, predictions_original))\n",
    "sns.heatmap(confusion_matrix(y_test_original,predictions_original), annot = True).set_title(\"Breast Cancer Predictions Heat Map\")"
   ]
  },
  {
   "cell_type": "code",
   "execution_count": 19,
   "id": "0fe7a324-4c6c-4923-9404-5c051b48f516",
   "metadata": {},
   "outputs": [
    {
     "data": {
      "text/plain": [
       "0.9649122807017544"
      ]
     },
     "execution_count": 19,
     "metadata": {},
     "output_type": "execute_result"
    }
   ],
   "source": [
    "best_knn_model_original.score(X_test_original, y_test_original)"
   ]
  },
  {
   "cell_type": "code",
   "execution_count": 20,
   "id": "c96769e7-f2e8-4b65-8bf3-83126da1e044",
   "metadata": {},
   "outputs": [
    {
     "name": "stdout",
     "output_type": "stream",
     "text": [
      "True Positives: 20\n",
      "True Negatives: 35\n"
     ]
    }
   ],
   "source": [
    "tn, fp, fn, tp = confusion_matrix(y_test_original, predictions_original).ravel()\n",
    "print(\"True Positives:\",tp)\n",
    "print(\"True Negatives:\", tn)"
   ]
  },
  {
   "cell_type": "markdown",
   "id": "42277c57-ed86-4c92-9635-de500965ab37",
   "metadata": {},
   "source": [
    "### Reduced features with confusion matrix\n",
    "So again this may seem like a lot but i really want to see them  one after the other through the different parts to get a better grasp to go from "
   ]
  },
  {
   "cell_type": "code",
   "execution_count": 21,
   "id": "583d1f5f-fc34-4862-8c2b-6dd5009f711b",
   "metadata": {},
   "outputs": [],
   "source": [
    "# Make a loop to run a range of nearest neighbours to find the best model starting small\n",
    "\n",
    "err_rate = []\n",
    "accuracy = []\n",
    "\n",
    "for i in range(2,22):\n",
    "    knn = KNeighborsClassifier(n_neighbors = i)\n",
    "    knn.fit(X_train, y_train)\n",
    "    predictions_i = knn.predict(X_test)\n",
    "    \n",
    "    err_rate.append(np.mean(predictions_i != y_test))\n",
    "    accuracy.append(knn.score(X_test, y_test))"
   ]
  },
  {
   "cell_type": "code",
   "execution_count": 22,
   "id": "2a7cf310-d21c-4bc9-9d71-c53f8d385c5d",
   "metadata": {},
   "outputs": [
    {
     "data": {
      "image/png": "[encoded data removed]",
      "text/plain": [
       "<Figure size 1000x400 with 1 Axes>"
      ]
     },
     "metadata": {},
     "output_type": "display_data"
    }
   ],
   "source": [
    "#let's visualize it with a plot too ** Keep in mind this is using error rate where above just for testing instead we used accuracy\n",
    "plt.figure(figsize = (10,4))\n",
    "\n",
    "plt.plot(range(2,22), err_rate, color =\"green\" )\n",
    "plt.title(\"Error Rate vs: K value\")\n",
    "plt.xlabel(\"Number of Neighbors\")\n",
    "plt.ylabel(\"Error Rate\")\n",
    "\n",
    "plt.show()"
   ]
  },
  {
   "cell_type": "code",
   "execution_count": 23,
   "id": "0a30e184-357d-4d6f-b410-6778f453dbf5",
   "metadata": {},
   "outputs": [
    {
     "data": {
      "text/plain": [
       "0.08771929824561403"
      ]
     },
     "execution_count": 23,
     "metadata": {},
     "output_type": "execute_result"
    }
   ],
   "source": [
    "min(err_rate)"
   ]
  },
  {
   "cell_type": "code",
   "execution_count": 24,
   "id": "8ff3b23c-9d6f-4fe2-bd37-f4c168ed706e",
   "metadata": {},
   "outputs": [
    {
     "name": "stdout",
     "output_type": "stream",
     "text": [
      "10\n"
     ]
    }
   ],
   "source": [
    "min(err_rate)\n",
    "best_knn = err_rate.index(min(err_rate)) + 1 #Could use 'min(err_rate)' instead of hardcoding 0.07 \n",
    "print(best_knn)"
   ]
  },
  {
   "cell_type": "code",
   "execution_count": 25,
   "id": "d2afff55-53be-4951-8af6-b033cbd23ebe",
   "metadata": {},
   "outputs": [
    {
     "name": "stdout",
     "output_type": "stream",
     "text": [
      "0.8947368421052632\n"
     ]
    }
   ],
   "source": [
    "# Run the best model\n",
    "\n",
    "best_knn_model = KNeighborsClassifier(n_neighbors = best_knn)\n",
    "best_knn_model.fit(X_train, y_train)\n",
    "predictions_best = best_knn_model.predict(X_test)\n",
    "\n",
    "print(best_knn_model.score(X_test, y_test))"
   ]
  },
  {
   "cell_type": "code",
   "execution_count": 26,
   "id": "fd36968b-e852-4886-ba23-2cf4aa932185",
   "metadata": {},
   "outputs": [
    {
     "name": "stdout",
     "output_type": "stream",
     "text": [
      "[[33  1]\n",
      " [ 5 18]]\n"
     ]
    },
    {
     "data": {
      "text/plain": [
       "Text(0.5, 1.0, 'Reduced Features for Breast Cancer Predictions Heat Map')"
      ]
     },
     "execution_count": 26,
     "metadata": {},
     "output_type": "execute_result"
    },
    {
     "data": {
      "image/png": "[encoded data removed]",
      "text/plain": [
       "<Figure size 640x480 with 2 Axes>"
      ]
     },
     "metadata": {},
     "output_type": "display_data"
    }
   ],
   "source": [
    "predictions = best_knn_model.predict(X_test)\n",
    "print(confusion_matrix(y_test, predictions))\n",
    "sns.heatmap(confusion_matrix(y_test,predictions), annot = True).set_title(\"Reduced Features for Breast Cancer Predictions Heat Map\")"
   ]
  },
  {
   "cell_type": "code",
   "execution_count": 27,
   "id": "4b4df3e2-94a5-467d-be53-31580c0b332c",
   "metadata": {},
   "outputs": [
    {
     "data": {
      "text/plain": [
       "0.8947368421052632"
      ]
     },
     "execution_count": 27,
     "metadata": {},
     "output_type": "execute_result"
    }
   ],
   "source": [
    "best_knn_model.score(X_test, y_test)"
   ]
  },
  {
   "cell_type": "code",
   "execution_count": 28,
   "id": "23af51fd-3115-43b9-a2dd-0dc18ff0dcf4",
   "metadata": {},
   "outputs": [
    {
     "name": "stdout",
     "output_type": "stream",
     "text": [
      "True Positives: 18\n",
      "True Negatives: 33\n"
     ]
    }
   ],
   "source": [
    "tn, fp, fn, tp = confusion_matrix(y_test, predictions).ravel()\n",
    "print(\"True Positives:\",tp)\n",
    "print(\"True Negatives:\", tn)"
   ]
  },
  {
   "cell_type": "code",
   "execution_count": 29,
   "id": "fca291ff-0479-4371-af14-884d4f4c8394",
   "metadata": {},
   "outputs": [],
   "source": [
    "# Training classifiers with Random Forest"
   ]
  },
  {
   "cell_type": "code",
   "execution_count": 30,
   "id": "30d93794-f976-45c9-b392-e8472ec9fea0",
   "metadata": {},
   "outputs": [],
   "source": [
    "#original data with confusion matrix"
   ]
  },
  {
   "cell_type": "code",
   "execution_count": 31,
   "id": "8c8e0881-5388-42fb-be70-5457f2fe308c",
   "metadata": {},
   "outputs": [],
   "source": [
    "model_RF_original = RandomForestClassifier(n_estimators = 10, # Default is 100\n",
    "                                  bootstrap = True) # If false, then all features will be used in each tree (\"bagging\")\n",
    "                                                    # class_weight allows you to add weighting (\"boosting\") "
   ]
  },
  {
   "cell_type": "code",
   "execution_count": 32,
   "id": "b5edc27e-7f48-46b8-acc7-4873419747fd",
   "metadata": {},
   "outputs": [
    {
     "data": {
      "text/html": [
       "<style>#sk-container-id-1 {color: black;background-color: white;}#sk-container-id-1 pre{padding: 0;}#sk-container-id-1 div.sk-toggleable {background-color: white;}#sk-container-id-1 label.sk-toggleable__label {cursor: pointer;display: block;width: 100%;margin-bottom: 0;padding: 0.3em;box-sizing: border-box;text-align: center;}#sk-container-id-1 label.sk-toggleable__label-arrow:before {content: \"▸\";float: left;margin-right: 0.25em;color: #696969;}#sk-container-id-1 label.sk-toggleable__label-arrow:hover:before {color: black;}#sk-container-id-1 div.sk-estimator:hover label.sk-toggleable__label-arrow:before {color: black;}#sk-container-id-1 div.sk-toggleable__content {max-height: 0;max-width: 0;overflow: hidden;text-align: left;background-color: #f0f8ff;}#sk-container-id-1 div.sk-toggleable__content pre {margin: 0.2em;color: black;border-radius: 0.25em;background-color: #f0f8ff;}#sk-container-id-1 input.sk-toggleable__control:checked~div.sk-toggleable__content {max-height: 200px;max-width: 100%;overflow: auto;}#sk-container-id-1 input.sk-toggleable__control:checked~label.sk-toggleable__label-arrow:before {content: \"▾\";}#sk-container-id-1 div.sk-estimator input.sk-toggleable__control:checked~label.sk-toggleable__label {background-color: #d4ebff;}#sk-container-id-1 div.sk-label input.sk-toggleable__control:checked~label.sk-toggleable__label {background-color: #d4ebff;}#sk-container-id-1 input.sk-hidden--visually {border: 0;clip: rect(1px 1px 1px 1px);clip: rect(1px, 1px, 1px, 1px);height: 1px;margin: -1px;overflow: hidden;padding: 0;position: absolute;width: 1px;}#sk-container-id-1 div.sk-estimator {font-family: monospace;background-color: #f0f8ff;border: 1px dotted black;border-radius: 0.25em;box-sizing: border-box;margin-bottom: 0.5em;}#sk-container-id-1 div.sk-estimator:hover {background-color: #d4ebff;}#sk-container-id-1 div.sk-parallel-item::after {content: \"\";width: 100%;border-bottom: 1px solid gray;flex-grow: 1;}#sk-container-id-1 div.sk-label:hover label.sk-toggleable__label {background-color: #d4ebff;}#sk-container-id-1 div.sk-serial::before {content: \"\";position: absolute;border-left: 1px solid gray;box-sizing: border-box;top: 0;bottom: 0;left: 50%;z-index: 0;}#sk-container-id-1 div.sk-serial {display: flex;flex-direction: column;align-items: center;background-color: white;padding-right: 0.2em;padding-left: 0.2em;position: relative;}#sk-container-id-1 div.sk-item {position: relative;z-index: 1;}#sk-container-id-1 div.sk-parallel {display: flex;align-items: stretch;justify-content: center;background-color: white;position: relative;}#sk-container-id-1 div.sk-item::before, #sk-container-id-1 div.sk-parallel-item::before {content: \"\";position: absolute;border-left: 1px solid gray;box-sizing: border-box;top: 0;bottom: 0;left: 50%;z-index: -1;}#sk-container-id-1 div.sk-parallel-item {display: flex;flex-direction: column;z-index: 1;position: relative;background-color: white;}#sk-container-id-1 div.sk-parallel-item:first-child::after {align-self: flex-end;width: 50%;}#sk-container-id-1 div.sk-parallel-item:last-child::after {align-self: flex-start;width: 50%;}#sk-container-id-1 div.sk-parallel-item:only-child::after {width: 0;}#sk-container-id-1 div.sk-dashed-wrapped {border: 1px dashed gray;margin: 0 0.4em 0.5em 0.4em;box-sizing: border-box;padding-bottom: 0.4em;background-color: white;}#sk-container-id-1 div.sk-label label {font-family: monospace;font-weight: bold;display: inline-block;line-height: 1.2em;}#sk-container-id-1 div.sk-label-container {text-align: center;}#sk-container-id-1 div.sk-container {/* jupyter's `normalize.less` sets `[hidden] { display: none; }` but bootstrap.min.css set `[hidden] { display: none !important; }` so we also need the `!important` here to be able to override the default hidden behavior on the sphinx rendered scikit-learn.org. See: https://github.com/scikit-learn/scikit-learn/issues/21755 */display: inline-block !important;position: relative;}#sk-container-id-1 div.sk-text-repr-fallback {display: none;}</style><div id=\"sk-container-id-1\" class=\"sk-top-container\"><div class=\"sk-text-repr-fallback\"><pre>RandomForestClassifier(n_estimators=10)</pre><b>In a Jupyter environment, please rerun this cell to show the HTML representation or trust the notebook. <br />On GitHub, the HTML representation is unable to render, please try loading this page with nbviewer.org.</b></div><div class=\"sk-container\" hidden><div class=\"sk-item\"><div class=\"sk-estimator sk-toggleable\"><input class=\"sk-toggleable__control sk-hidden--visually\" id=\"sk-estimator-id-1\" type=\"checkbox\" checked><label for=\"sk-estimator-id-1\" class=\"sk-toggleable__label sk-toggleable__label-arrow\">RandomForestClassifier</label><div class=\"sk-toggleable__content\"><pre>RandomForestClassifier(n_estimators=10)</pre></div></div></div></div></div>"
      ],
      "text/plain": [
       "RandomForestClassifier(n_estimators=10)"
      ]
     },
     "execution_count": 32,
     "metadata": {},
     "output_type": "execute_result"
    }
   ],
   "source": [
    "model_RF_original.fit(X_train_original, y_train_original)"
   ]
  },
  {
   "cell_type": "code",
   "execution_count": 33,
   "id": "5b3abef7-3b20-4c1d-b426-03082e7a6ce6",
   "metadata": {},
   "outputs": [],
   "source": [
    "y_pred_RF_original = model_RF_original.predict(X_test_original)"
   ]
  },
  {
   "cell_type": "code",
   "execution_count": 34,
   "id": "90c74e76-f16a-4c69-8786-9c3670cc7ebf",
   "metadata": {},
   "outputs": [
    {
     "name": "stdout",
     "output_type": "stream",
     "text": [
      "[[36  1]\n",
      " [ 0 20]]\n",
      "              precision    recall  f1-score   support\n",
      "\n",
      "           0       1.00      0.97      0.99        37\n",
      "           1       0.95      1.00      0.98        20\n",
      "\n",
      "    accuracy                           0.98        57\n",
      "   macro avg       0.98      0.99      0.98        57\n",
      "weighted avg       0.98      0.98      0.98        57\n",
      "\n"
     ]
    }
   ],
   "source": [
    "print(confusion_matrix(y_test_original,      y_pred_RF_original))\n",
    "print(classification_report(y_test_original, y_pred_RF_original))"
   ]
  },
  {
   "cell_type": "code",
   "execution_count": 35,
   "id": "0e24b14f-9e62-4182-9f3e-595deddf1c7c",
   "metadata": {},
   "outputs": [
    {
     "data": {
      "text/plain": [
       "0.9824561403508771"
      ]
     },
     "execution_count": 35,
     "metadata": {},
     "output_type": "execute_result"
    }
   ],
   "source": [
    "model_RF_original.score(X_test_original, y_test_original)"
   ]
  },
  {
   "cell_type": "code",
   "execution_count": 36,
   "id": "456c8814-65be-4956-8905-5834ea83192e",
   "metadata": {},
   "outputs": [],
   "source": [
    "#reduced features with confusion matrix"
   ]
  },
  {
   "cell_type": "code",
   "execution_count": 37,
   "id": "bbaa667d-f7a2-43f5-a49b-380b1fe969b1",
   "metadata": {},
   "outputs": [],
   "source": [
    "model_RF = RandomForestClassifier(n_estimators = 10, # Default is 100\n",
    "                                  bootstrap = True) # If false, then all features will be used in each tree (\"bagging\")\n",
    "                                                    # class_weight allows you to add weighting (\"boosting\") "
   ]
  },
  {
   "cell_type": "code",
   "execution_count": 38,
   "id": "572c92d2-27ca-4b52-88f4-c2ad37b37ec5",
   "metadata": {},
   "outputs": [
    {
     "data": {
      "text/html": [
       "<style>#sk-container-id-2 {color: black;background-color: white;}#sk-container-id-2 pre{padding: 0;}#sk-container-id-2 div.sk-toggleable {background-color: white;}#sk-container-id-2 label.sk-toggleable__label {cursor: pointer;display: block;width: 100%;margin-bottom: 0;padding: 0.3em;box-sizing: border-box;text-align: center;}#sk-container-id-2 label.sk-toggleable__label-arrow:before {content: \"▸\";float: left;margin-right: 0.25em;color: #696969;}#sk-container-id-2 label.sk-toggleable__label-arrow:hover:before {color: black;}#sk-container-id-2 div.sk-estimator:hover label.sk-toggleable__label-arrow:before {color: black;}#sk-container-id-2 div.sk-toggleable__content {max-height: 0;max-width: 0;overflow: hidden;text-align: left;background-color: #f0f8ff;}#sk-container-id-2 div.sk-toggleable__content pre {margin: 0.2em;color: black;border-radius: 0.25em;background-color: #f0f8ff;}#sk-container-id-2 input.sk-toggleable__control:checked~div.sk-toggleable__content {max-height: 200px;max-width: 100%;overflow: auto;}#sk-container-id-2 input.sk-toggleable__control:checked~label.sk-toggleable__label-arrow:before {content: \"▾\";}#sk-container-id-2 div.sk-estimator input.sk-toggleable__control:checked~label.sk-toggleable__label {background-color: #d4ebff;}#sk-container-id-2 div.sk-label input.sk-toggleable__control:checked~label.sk-toggleable__label {background-color: #d4ebff;}#sk-container-id-2 input.sk-hidden--visually {border: 0;clip: rect(1px 1px 1px 1px);clip: rect(1px, 1px, 1px, 1px);height: 1px;margin: -1px;overflow: hidden;padding: 0;position: absolute;width: 1px;}#sk-container-id-2 div.sk-estimator {font-family: monospace;background-color: #f0f8ff;border: 1px dotted black;border-radius: 0.25em;box-sizing: border-box;margin-bottom: 0.5em;}#sk-container-id-2 div.sk-estimator:hover {background-color: #d4ebff;}#sk-container-id-2 div.sk-parallel-item::after {content: \"\";width: 100%;border-bottom: 1px solid gray;flex-grow: 1;}#sk-container-id-2 div.sk-label:hover label.sk-toggleable__label {background-color: #d4ebff;}#sk-container-id-2 div.sk-serial::before {content: \"\";position: absolute;border-left: 1px solid gray;box-sizing: border-box;top: 0;bottom: 0;left: 50%;z-index: 0;}#sk-container-id-2 div.sk-serial {display: flex;flex-direction: column;align-items: center;background-color: white;padding-right: 0.2em;padding-left: 0.2em;position: relative;}#sk-container-id-2 div.sk-item {position: relative;z-index: 1;}#sk-container-id-2 div.sk-parallel {display: flex;align-items: stretch;justify-content: center;background-color: white;position: relative;}#sk-container-id-2 div.sk-item::before, #sk-container-id-2 div.sk-parallel-item::before {content: \"\";position: absolute;border-left: 1px solid gray;box-sizing: border-box;top: 0;bottom: 0;left: 50%;z-index: -1;}#sk-container-id-2 div.sk-parallel-item {display: flex;flex-direction: column;z-index: 1;position: relative;background-color: white;}#sk-container-id-2 div.sk-parallel-item:first-child::after {align-self: flex-end;width: 50%;}#sk-container-id-2 div.sk-parallel-item:last-child::after {align-self: flex-start;width: 50%;}#sk-container-id-2 div.sk-parallel-item:only-child::after {width: 0;}#sk-container-id-2 div.sk-dashed-wrapped {border: 1px dashed gray;margin: 0 0.4em 0.5em 0.4em;box-sizing: border-box;padding-bottom: 0.4em;background-color: white;}#sk-container-id-2 div.sk-label label {font-family: monospace;font-weight: bold;display: inline-block;line-height: 1.2em;}#sk-container-id-2 div.sk-label-container {text-align: center;}#sk-container-id-2 div.sk-container {/* jupyter's `normalize.less` sets `[hidden] { display: none; }` but bootstrap.min.css set `[hidden] { display: none !important; }` so we also need the `!important` here to be able to override the default hidden behavior on the sphinx rendered scikit-learn.org. See: https://github.com/scikit-learn/scikit-learn/issues/21755 */display: inline-block !important;position: relative;}#sk-container-id-2 div.sk-text-repr-fallback {display: none;}</style><div id=\"sk-container-id-2\" class=\"sk-top-container\"><div class=\"sk-text-repr-fallback\"><pre>RandomForestClassifier(n_estimators=10)</pre><b>In a Jupyter environment, please rerun this cell to show the HTML representation or trust the notebook. <br />On GitHub, the HTML representation is unable to render, please try loading this page with nbviewer.org.</b></div><div class=\"sk-container\" hidden><div class=\"sk-item\"><div class=\"sk-estimator sk-toggleable\"><input class=\"sk-toggleable__control sk-hidden--visually\" id=\"sk-estimator-id-2\" type=\"checkbox\" checked><label for=\"sk-estimator-id-2\" class=\"sk-toggleable__label sk-toggleable__label-arrow\">RandomForestClassifier</label><div class=\"sk-toggleable__content\"><pre>RandomForestClassifier(n_estimators=10)</pre></div></div></div></div></div>"
      ],
      "text/plain": [
       "RandomForestClassifier(n_estimators=10)"
      ]
     },
     "execution_count": 38,
     "metadata": {},
     "output_type": "execute_result"
    }
   ],
   "source": [
    "model_RF.fit(X_train, y_train)"
   ]
  },
  {
   "cell_type": "code",
   "execution_count": 39,
   "id": "1e8084b3-057d-49cd-9ef7-bd71658d8a7c",
   "metadata": {},
   "outputs": [],
   "source": [
    "y_pred_RF = model_RF.predict(X_test)"
   ]
  },
  {
   "cell_type": "code",
   "execution_count": 40,
   "id": "f03a51fd-4cd4-496a-a651-6b5341cda4c2",
   "metadata": {},
   "outputs": [
    {
     "name": "stdout",
     "output_type": "stream",
     "text": [
      "[[32  2]\n",
      " [ 1 22]]\n",
      "              precision    recall  f1-score   support\n",
      "\n",
      "           0       0.97      0.94      0.96        34\n",
      "           1       0.92      0.96      0.94        23\n",
      "\n",
      "    accuracy                           0.95        57\n",
      "   macro avg       0.94      0.95      0.95        57\n",
      "weighted avg       0.95      0.95      0.95        57\n",
      "\n"
     ]
    }
   ],
   "source": [
    "print(confusion_matrix(y_test,      y_pred_RF))\n",
    "print(classification_report(y_test, y_pred_RF))"
   ]
  },
  {
   "cell_type": "code",
   "execution_count": 41,
   "id": "b63aabbf-207d-4853-8c82-8b9cf7f94f1a",
   "metadata": {},
   "outputs": [
    {
     "data": {
      "text/plain": [
       "0.9473684210526315"
      ]
     },
     "execution_count": 41,
     "metadata": {},
     "output_type": "execute_result"
    }
   ],
   "source": [
    "model_RF.score(X_test, y_test)"
   ]
  },
  {
   "cell_type": "markdown",
   "id": "6d4ed6d7-cb93-496d-9341-0d69875242f6",
   "metadata": {},
   "source": [
    "#### This had a very high score, much better than the KNN for this dataset it appears so far, next i'll try SVC"
   ]
  },
  {
   "cell_type": "code",
   "execution_count": 42,
   "id": "6c58fbf7-d893-444d-b10b-e85cb420c17d",
   "metadata": {},
   "outputs": [],
   "source": [
    "# Training classifiers with SVC"
   ]
  },
  {
   "cell_type": "code",
   "execution_count": 43,
   "id": "2626a277-63d3-46d3-8ab9-732d4d407c83",
   "metadata": {},
   "outputs": [],
   "source": [
    "#original data with confusion matrix"
   ]
  },
  {
   "cell_type": "code",
   "execution_count": 44,
   "id": "f37e08b9-f608-49c6-b440-91f65ee9af08",
   "metadata": {},
   "outputs": [],
   "source": [
    "# Create an instance of 'svm_model' with the RBF Kernel\n",
    "svm_model_original = SVC(max_iter = 1000,\n",
    "               kernel = \"rbf\",\n",
    "               C= 1.0,\n",
    "               gamma = 'scale'\n",
    "               ) # max_iter is not required, but can prevent crashing when models don't converge as the default is unlimited iterations"
   ]
  },
  {
   "cell_type": "code",
   "execution_count": 45,
   "id": "aa76a1d6-fa05-483a-a800-793b46d3c3f0",
   "metadata": {},
   "outputs": [
    {
     "data": {
      "text/html": [
       "<style>#sk-container-id-3 {color: black;background-color: white;}#sk-container-id-3 pre{padding: 0;}#sk-container-id-3 div.sk-toggleable {background-color: white;}#sk-container-id-3 label.sk-toggleable__label {cursor: pointer;display: block;width: 100%;margin-bottom: 0;padding: 0.3em;box-sizing: border-box;text-align: center;}#sk-container-id-3 label.sk-toggleable__label-arrow:before {content: \"▸\";float: left;margin-right: 0.25em;color: #696969;}#sk-container-id-3 label.sk-toggleable__label-arrow:hover:before {color: black;}#sk-container-id-3 div.sk-estimator:hover label.sk-toggleable__label-arrow:before {color: black;}#sk-container-id-3 div.sk-toggleable__content {max-height: 0;max-width: 0;overflow: hidden;text-align: left;background-color: #f0f8ff;}#sk-container-id-3 div.sk-toggleable__content pre {margin: 0.2em;color: black;border-radius: 0.25em;background-color: #f0f8ff;}#sk-container-id-3 input.sk-toggleable__control:checked~div.sk-toggleable__content {max-height: 200px;max-width: 100%;overflow: auto;}#sk-container-id-3 input.sk-toggleable__control:checked~label.sk-toggleable__label-arrow:before {content: \"▾\";}#sk-container-id-3 div.sk-estimator input.sk-toggleable__control:checked~label.sk-toggleable__label {background-color: #d4ebff;}#sk-container-id-3 div.sk-label input.sk-toggleable__control:checked~label.sk-toggleable__label {background-color: #d4ebff;}#sk-container-id-3 input.sk-hidden--visually {border: 0;clip: rect(1px 1px 1px 1px);clip: rect(1px, 1px, 1px, 1px);height: 1px;margin: -1px;overflow: hidden;padding: 0;position: absolute;width: 1px;}#sk-container-id-3 div.sk-estimator {font-family: monospace;background-color: #f0f8ff;border: 1px dotted black;border-radius: 0.25em;box-sizing: border-box;margin-bottom: 0.5em;}#sk-container-id-3 div.sk-estimator:hover {background-color: #d4ebff;}#sk-container-id-3 div.sk-parallel-item::after {content: \"\";width: 100%;border-bottom: 1px solid gray;flex-grow: 1;}#sk-container-id-3 div.sk-label:hover label.sk-toggleable__label {background-color: #d4ebff;}#sk-container-id-3 div.sk-serial::before {content: \"\";position: absolute;border-left: 1px solid gray;box-sizing: border-box;top: 0;bottom: 0;left: 50%;z-index: 0;}#sk-container-id-3 div.sk-serial {display: flex;flex-direction: column;align-items: center;background-color: white;padding-right: 0.2em;padding-left: 0.2em;position: relative;}#sk-container-id-3 div.sk-item {position: relative;z-index: 1;}#sk-container-id-3 div.sk-parallel {display: flex;align-items: stretch;justify-content: center;background-color: white;position: relative;}#sk-container-id-3 div.sk-item::before, #sk-container-id-3 div.sk-parallel-item::before {content: \"\";position: absolute;border-left: 1px solid gray;box-sizing: border-box;top: 0;bottom: 0;left: 50%;z-index: -1;}#sk-container-id-3 div.sk-parallel-item {display: flex;flex-direction: column;z-index: 1;position: relative;background-color: white;}#sk-container-id-3 div.sk-parallel-item:first-child::after {align-self: flex-end;width: 50%;}#sk-container-id-3 div.sk-parallel-item:last-child::after {align-self: flex-start;width: 50%;}#sk-container-id-3 div.sk-parallel-item:only-child::after {width: 0;}#sk-container-id-3 div.sk-dashed-wrapped {border: 1px dashed gray;margin: 0 0.4em 0.5em 0.4em;box-sizing: border-box;padding-bottom: 0.4em;background-color: white;}#sk-container-id-3 div.sk-label label {font-family: monospace;font-weight: bold;display: inline-block;line-height: 1.2em;}#sk-container-id-3 div.sk-label-container {text-align: center;}#sk-container-id-3 div.sk-container {/* jupyter's `normalize.less` sets `[hidden] { display: none; }` but bootstrap.min.css set `[hidden] { display: none !important; }` so we also need the `!important` here to be able to override the default hidden behavior on the sphinx rendered scikit-learn.org. See: https://github.com/scikit-learn/scikit-learn/issues/21755 */display: inline-block !important;position: relative;}#sk-container-id-3 div.sk-text-repr-fallback {display: none;}</style><div id=\"sk-container-id-3\" class=\"sk-top-container\"><div class=\"sk-text-repr-fallback\"><pre>SVC(max_iter=1000)</pre><b>In a Jupyter environment, please rerun this cell to show the HTML representation or trust the notebook. <br />On GitHub, the HTML representation is unable to render, please try loading this page with nbviewer.org.</b></div><div class=\"sk-container\" hidden><div class=\"sk-item\"><div class=\"sk-estimator sk-toggleable\"><input class=\"sk-toggleable__control sk-hidden--visually\" id=\"sk-estimator-id-3\" type=\"checkbox\" checked><label for=\"sk-estimator-id-3\" class=\"sk-toggleable__label sk-toggleable__label-arrow\">SVC</label><div class=\"sk-toggleable__content\"><pre>SVC(max_iter=1000)</pre></div></div></div></div></div>"
      ],
      "text/plain": [
       "SVC(max_iter=1000)"
      ]
     },
     "execution_count": 45,
     "metadata": {},
     "output_type": "execute_result"
    }
   ],
   "source": [
    "svm_model_original.fit(X_train_original, y_train_original) "
   ]
  },
  {
   "cell_type": "code",
   "execution_count": 46,
   "id": "e961ccd5-97c6-4fb2-a87b-3cde9abe8750",
   "metadata": {},
   "outputs": [
    {
     "data": {
      "text/plain": [
       "0.9649122807017544"
      ]
     },
     "execution_count": 46,
     "metadata": {},
     "output_type": "execute_result"
    }
   ],
   "source": [
    "# Guess what, time to do the predictions!\n",
    "predictions_original = svm_model_original.predict(X_test_original)\n",
    "svm_model_original.score(X_test_original,y_test_original)"
   ]
  },
  {
   "cell_type": "code",
   "execution_count": 47,
   "id": "cc1e99ad-28a1-477f-840d-9c9713dd37f3",
   "metadata": {},
   "outputs": [
    {
     "name": "stdout",
     "output_type": "stream",
     "text": [
      "[[35  2]\n",
      " [ 0 20]]\n",
      "              precision    recall  f1-score   support\n",
      "\n",
      "           0       1.00      0.95      0.97        37\n",
      "           1       0.91      1.00      0.95        20\n",
      "\n",
      "    accuracy                           0.96        57\n",
      "   macro avg       0.95      0.97      0.96        57\n",
      "weighted avg       0.97      0.96      0.97        57\n",
      "\n"
     ]
    }
   ],
   "source": [
    "print(confusion_matrix(y_test_original,predictions_original))\n",
    "print(classification_report(y_test_original,predictions_original))"
   ]
  },
  {
   "cell_type": "code",
   "execution_count": 48,
   "id": "3c4328ae-150b-416d-b3a8-03578992128a",
   "metadata": {},
   "outputs": [],
   "source": [
    "#reduced features with confusion matrix"
   ]
  },
  {
   "cell_type": "code",
   "execution_count": 49,
   "id": "a6870a54-aa79-448e-a35a-2b82effac786",
   "metadata": {},
   "outputs": [],
   "source": [
    "# Create an instance of 'svm_model' with the RBF Kernel\n",
    "svm_model = SVC(max_iter = 1000,\n",
    "               kernel = \"rbf\",\n",
    "               C= 1.0,\n",
    "               gamma = 'scale'\n",
    "               ) # max_iter is not required, but can prevent crashing when models don't converge as the default is unlimited iterations"
   ]
  },
  {
   "cell_type": "code",
   "execution_count": 50,
   "id": "ad15c9cb-4b8b-4b2b-af9a-d7aa58161a09",
   "metadata": {},
   "outputs": [
    {
     "data": {
      "text/html": [
       "<style>#sk-container-id-4 {color: black;background-color: white;}#sk-container-id-4 pre{padding: 0;}#sk-container-id-4 div.sk-toggleable {background-color: white;}#sk-container-id-4 label.sk-toggleable__label {cursor: pointer;display: block;width: 100%;margin-bottom: 0;padding: 0.3em;box-sizing: border-box;text-align: center;}#sk-container-id-4 label.sk-toggleable__label-arrow:before {content: \"▸\";float: left;margin-right: 0.25em;color: #696969;}#sk-container-id-4 label.sk-toggleable__label-arrow:hover:before {color: black;}#sk-container-id-4 div.sk-estimator:hover label.sk-toggleable__label-arrow:before {color: black;}#sk-container-id-4 div.sk-toggleable__content {max-height: 0;max-width: 0;overflow: hidden;text-align: left;background-color: #f0f8ff;}#sk-container-id-4 div.sk-toggleable__content pre {margin: 0.2em;color: black;border-radius: 0.25em;background-color: #f0f8ff;}#sk-container-id-4 input.sk-toggleable__control:checked~div.sk-toggleable__content {max-height: 200px;max-width: 100%;overflow: auto;}#sk-container-id-4 input.sk-toggleable__control:checked~label.sk-toggleable__label-arrow:before {content: \"▾\";}#sk-container-id-4 div.sk-estimator input.sk-toggleable__control:checked~label.sk-toggleable__label {background-color: #d4ebff;}#sk-container-id-4 div.sk-label input.sk-toggleable__control:checked~label.sk-toggleable__label {background-color: #d4ebff;}#sk-container-id-4 input.sk-hidden--visually {border: 0;clip: rect(1px 1px 1px 1px);clip: rect(1px, 1px, 1px, 1px);height: 1px;margin: -1px;overflow: hidden;padding: 0;position: absolute;width: 1px;}#sk-container-id-4 div.sk-estimator {font-family: monospace;background-color: #f0f8ff;border: 1px dotted black;border-radius: 0.25em;box-sizing: border-box;margin-bottom: 0.5em;}#sk-container-id-4 div.sk-estimator:hover {background-color: #d4ebff;}#sk-container-id-4 div.sk-parallel-item::after {content: \"\";width: 100%;border-bottom: 1px solid gray;flex-grow: 1;}#sk-container-id-4 div.sk-label:hover label.sk-toggleable__label {background-color: #d4ebff;}#sk-container-id-4 div.sk-serial::before {content: \"\";position: absolute;border-left: 1px solid gray;box-sizing: border-box;top: 0;bottom: 0;left: 50%;z-index: 0;}#sk-container-id-4 div.sk-serial {display: flex;flex-direction: column;align-items: center;background-color: white;padding-right: 0.2em;padding-left: 0.2em;position: relative;}#sk-container-id-4 div.sk-item {position: relative;z-index: 1;}#sk-container-id-4 div.sk-parallel {display: flex;align-items: stretch;justify-content: center;background-color: white;position: relative;}#sk-container-id-4 div.sk-item::before, #sk-container-id-4 div.sk-parallel-item::before {content: \"\";position: absolute;border-left: 1px solid gray;box-sizing: border-box;top: 0;bottom: 0;left: 50%;z-index: -1;}#sk-container-id-4 div.sk-parallel-item {display: flex;flex-direction: column;z-index: 1;position: relative;background-color: white;}#sk-container-id-4 div.sk-parallel-item:first-child::after {align-self: flex-end;width: 50%;}#sk-container-id-4 div.sk-parallel-item:last-child::after {align-self: flex-start;width: 50%;}#sk-container-id-4 div.sk-parallel-item:only-child::after {width: 0;}#sk-container-id-4 div.sk-dashed-wrapped {border: 1px dashed gray;margin: 0 0.4em 0.5em 0.4em;box-sizing: border-box;padding-bottom: 0.4em;background-color: white;}#sk-container-id-4 div.sk-label label {font-family: monospace;font-weight: bold;display: inline-block;line-height: 1.2em;}#sk-container-id-4 div.sk-label-container {text-align: center;}#sk-container-id-4 div.sk-container {/* jupyter's `normalize.less` sets `[hidden] { display: none; }` but bootstrap.min.css set `[hidden] { display: none !important; }` so we also need the `!important` here to be able to override the default hidden behavior on the sphinx rendered scikit-learn.org. See: https://github.com/scikit-learn/scikit-learn/issues/21755 */display: inline-block !important;position: relative;}#sk-container-id-4 div.sk-text-repr-fallback {display: none;}</style><div id=\"sk-container-id-4\" class=\"sk-top-container\"><div class=\"sk-text-repr-fallback\"><pre>SVC(max_iter=1000)</pre><b>In a Jupyter environment, please rerun this cell to show the HTML representation or trust the notebook. <br />On GitHub, the HTML representation is unable to render, please try loading this page with nbviewer.org.</b></div><div class=\"sk-container\" hidden><div class=\"sk-item\"><div class=\"sk-estimator sk-toggleable\"><input class=\"sk-toggleable__control sk-hidden--visually\" id=\"sk-estimator-id-4\" type=\"checkbox\" checked><label for=\"sk-estimator-id-4\" class=\"sk-toggleable__label sk-toggleable__label-arrow\">SVC</label><div class=\"sk-toggleable__content\"><pre>SVC(max_iter=1000)</pre></div></div></div></div></div>"
      ],
      "text/plain": [
       "SVC(max_iter=1000)"
      ]
     },
     "execution_count": 50,
     "metadata": {},
     "output_type": "execute_result"
    }
   ],
   "source": [
    "svm_model.fit(X_train, y_train) "
   ]
  },
  {
   "cell_type": "code",
   "execution_count": 51,
   "id": "5ac59698-4bb3-46c3-bc43-2bb0cef5727b",
   "metadata": {},
   "outputs": [
    {
     "data": {
      "text/plain": [
       "0.9824561403508771"
      ]
     },
     "execution_count": 51,
     "metadata": {},
     "output_type": "execute_result"
    }
   ],
   "source": [
    "# Guess what, time to do the predictions!\n",
    "predictions = svm_model.predict(X_test)\n",
    "svm_model.score(X_test,y_test)"
   ]
  },
  {
   "cell_type": "code",
   "execution_count": 52,
   "id": "e7cd95bc-b765-4fba-8ea5-473970e2e0c1",
   "metadata": {},
   "outputs": [
    {
     "name": "stdout",
     "output_type": "stream",
     "text": [
      "[[33  1]\n",
      " [ 0 23]]\n",
      "              precision    recall  f1-score   support\n",
      "\n",
      "           0       1.00      0.97      0.99        34\n",
      "           1       0.96      1.00      0.98        23\n",
      "\n",
      "    accuracy                           0.98        57\n",
      "   macro avg       0.98      0.99      0.98        57\n",
      "weighted avg       0.98      0.98      0.98        57\n",
      "\n"
     ]
    }
   ],
   "source": [
    "print(confusion_matrix(y_test,predictions))\n",
    "print(classification_report(y_test,predictions))"
   ]
  },
  {
   "cell_type": "markdown",
   "id": "b22ea268-7649-4478-838c-bbb48f81d5d2",
   "metadata": {},
   "source": [
    "#### Just for fun linear version"
   ]
  },
  {
   "cell_type": "code",
   "execution_count": 53,
   "id": "e68d706c-be76-4ef8-9bcf-83da8886bbda",
   "metadata": {},
   "outputs": [
    {
     "name": "stderr",
     "output_type": "stream",
     "text": [
      "C:\\Users\\hyppi\\anaconda3\\envs\\notebook2\\Lib\\site-packages\\sklearn\\svm\\_base.py:299: ConvergenceWarning: Solver terminated early (max_iter=1000).  Consider pre-processing your data with StandardScaler or MinMaxScaler.\n",
      "  warnings.warn(\n"
     ]
    },
    {
     "data": {
      "text/plain": [
       "0.9122807017543859"
      ]
     },
     "execution_count": 53,
     "metadata": {},
     "output_type": "execute_result"
    }
   ],
   "source": [
    "svm_model = SVC(max_iter = 1000,\n",
    "               kernel = \"linear\",\n",
    "               C= 1.0,\n",
    "               )\n",
    "\n",
    "svm_model.fit(X_train, y_train)\n",
    "svm_model.score(X_test,y_test)"
   ]
  },
  {
   "cell_type": "markdown",
   "id": "d3ae0826-f01c-4816-beff-5f9c44686da7",
   "metadata": {},
   "source": [
    "#### SVC RBF was better than KNN but not as good as Random Forest it appears, linear wasn't as good as RBF, the top performer was by far the Random forest model and the next best was the SVC run with RBF (not linear though).\n",
    "\n"
   ]
  },
  {
   "cell_type": "code",
   "execution_count": null,
   "id": "52e4b926-f0b8-477a-ad0a-4fed6b003a0e",
   "metadata": {},
   "outputs": [],
   "source": []
  }
 ],
 "metadata": {
  "kernelspec": {
   "display_name": "Python 3 (ipykernel)",
   "language": "python",
   "name": "python3"
  },
  "language_info": {
   "codemirror_mode": {
    "name": "ipython",
    "version": 3
   },
   "file_extension": ".py",
   "mimetype": "text/x-python",
   "name": "python",
   "nbconvert_exporter": "python",
   "pygments_lexer": "ipython3",
   "version": "3.11.8"
  }
 },
 "nbformat": 4,
 "nbformat_minor": 5
}
